{
 "cells": [
  {
   "cell_type": "code",
   "execution_count": 1,
   "metadata": {},
   "outputs": [],
   "source": [
    "from selenium import webdriver\n",
    "from selenium.webdriver.remote.webdriver import WebDriver\n",
    "from selenium.webdriver.remote.webdriver import WebElement\n",
    "from selenium.webdriver.remote.webdriver import WebDriverException\n",
    "from selenium.webdriver.common.by import By\n",
    "from selenium.webdriver.support.ui import WebDriverWait\n",
    "from selenium.webdriver.support import expected_conditions as expected\n",
    "\n",
    "from time import sleep\n",
    "timeout = 15"
   ]
  },
  {
   "cell_type": "code",
   "execution_count": 2,
   "metadata": {},
   "outputs": [],
   "source": [
    "def getdriver():\n",
    "    driver = webdriver.Chrome()\n",
    "    return driver\n",
    "\n",
    "def getwait(driver, timeout=15):\n",
    "    wait = WebDriverWait(driver, timeout)\n",
    "    return wait\n"
   ]
  },
  {
   "cell_type": "code",
   "execution_count": 3,
   "metadata": {},
   "outputs": [],
   "source": [
    "def present(selector):\n",
    "    return expected.presence_of_element_located(selector)\n",
    "\n",
    "def visible(selector):\n",
    "    return expected.visibility_of_element_located(selector)\n",
    "\n",
    "def clickable(selector):\n",
    "    return expected.element_to_be_clickable(selector)\n",
    "\n",
    "def all_present(selector):\n",
    "    return expected.presence_of_all_elements_located(selector)\n",
    "\n",
    "def all_visible(selector):\n",
    "    return expected.visibility_of_all_elements_located(selector)\n",
    "\n",
    "\n",
    "def when_visible(selector, timeout = timeout):\n",
    "    return getwait(driver).until(visible(selector))\n",
    "\n",
    "def when_clickable(selector, timeout = timeout):\n",
    "    return getwait(driver).until(clickable(selector))\n",
    "\n",
    "def when_all_present(selector, timeout = timeout):\n",
    "    return getwait(driver).until(all_present(selector))\n",
    "\n",
    "def when_all_visible(selector, timeout = timeout):\n",
    "    return getwait(driver).until(all_visible(selector))\n"
   ]
  },
  {
   "cell_type": "code",
   "execution_count": 4,
   "metadata": {},
   "outputs": [],
   "source": [
    "class UCIResultsFrame():\n",
    "    url = \"https://dataride.uci.org/iframe/results/3\"\n",
    "\n",
    "    results_heading_selector = (By.CSS_SELECTOR, \".uci-label\")\n",
    "\n",
    "    racetype_dropdown_selector = (By.CSS_SELECTOR, \"#raceTypes\")\n",
    "    racetype_dropdown_arrow_selector = (By.CSS_SELECTOR, \"[aria-owns=raceTypes_listbox] [class*=arrow]\")\n",
    "    racetype_options_selector = (By.CSS_SELECTOR, \"#raceTypes_listbox li\")\n",
    "\n",
    "    category_dropdown_selector = (By.CSS_SELECTOR, \"#categories\")\n",
    "    category_dropdown_arrow_selector = (By.CSS_SELECTOR, \"[aria-owns=categories_listbox] [class*=arrow]\")\n",
    "    category_options_selector = (By.CSS_SELECTOR, \"#categories_listbox li\")\n",
    "\n",
    "    season_dropdown_selector = (By.CSS_SELECTOR, \"#seasons\")\n",
    "    season_dropdown_arrow_selector = (By.CSS_SELECTOR, \"[aria-owns=seasons_listbox] [class*=arrow]\")\n",
    "    season_options_selector = (By.CSS_SELECTOR, \"#seasons_listbox li\")\n",
    "    \n",
    "    def __init__(self, driver):\n",
    "        self.driver = driver\n",
    "    \n",
    "    def open(self):\n",
    "        self.driver.get(self.url)\n",
    "    "
   ]
  },
  {
   "cell_type": "code",
   "execution_count": 7,
   "metadata": {},
   "outputs": [],
   "source": [
    "def select_racetype(racetype):\n",
    "    print(f\"select race type: {racetype}\")\n",
    "    when_clickable(UCIResultsFrame.racetype_dropdown_arrow_selector).click()\n",
    "    options = when_all_visible(UCIResultsFrame.racetype_options_selector)\n",
    "    for option in options:\n",
    "        print(option.text)\n",
    "        if option.text == racetype:\n",
    "            print(f\"selecting racetype: {racetype}\")\n",
    "            option.click()\n",
    "            #return\n",
    "        \n",
    "def select_category(category):\n",
    "    print(f\"select category: {category}\")\n",
    "    when_clickable(UCIResultsFrame.category_dropdown_arrow_selector).click()\n",
    "    \n",
    "    options = when_all_visible(UCIResultsFrame.category_options_selector)\n",
    "    \n",
    "    for option in options:\n",
    "        print(option.text)\n",
    "        if option.text == category:\n",
    "            print(f\"selecting category: {category}\")\n",
    "            option.click()\n",
    "            #return\n",
    "        \n",
    "def select_season(season):\n",
    "    print(f\"select season: {season}\")\n",
    "    when_clickable(UCIResultsFrame.season_dropdown_arrow_selector).click()\n",
    "    \n",
    "    options = when_all_visible(UCIResultsFrame.season_options_selector)\n",
    "    \n",
    "    print(\"options...\", len(options))\n",
    "#     for option in options:\n",
    "#         print(option.text)\n",
    "#         if option.text == season:\n",
    "#             print(f\"selecting season {season}\")\n",
    "#             option.click()\n",
    "#             #return\n",
    "            \n",
    "    print(f\"select {season} season option\")\n",
    "    target = filter(lambda option: option.text == season, options)\n",
    "    print(f\"filtered option {target} {next(target).text}\")\n",
    "    target.click()\n"
   ]
  },
  {
   "cell_type": "code",
   "execution_count": 9,
   "metadata": {},
   "outputs": [
    {
     "name": "stdout",
     "output_type": "stream",
     "text": [
      "page loaded: Results\n"
     ]
    }
   ],
   "source": [
    "try:\n",
    "    driver = getdriver()\n",
    "    wait = getwait(driver)\n",
    "\n",
    "    driver.get(\"https://dataride.uci.org/iframe/results/3\")\n",
    "    sleep(5)\n",
    "    heading = driver.find_element(By.CSS_SELECTOR, '.uci-label')\n",
    "    print(\"page loaded: \" + heading.text)\n",
    "\n",
    "    seasons = driver.find_elements(By.CSS_SELECTOR, \"#seasons_listbox li\")\n",
    "#     select_racetype(\"Individual\")\n",
    "#     select_category(\"Men Elite\")\n",
    "#     select_season(\"2020\")\n",
    "    \n",
    "finally:\n",
    "    sleep(10)\n",
    "    driver.quit()"
   ]
  },
  {
   "cell_type": "code",
   "execution_count": null,
   "metadata": {},
   "outputs": [],
   "source": [
    "print(\"done\")"
   ]
  },
  {
   "cell_type": "code",
   "execution_count": null,
   "metadata": {},
   "outputs": [],
   "source": []
  }
 ],
 "metadata": {
  "kernelspec": {
   "display_name": "Python 3 (ipykernel)",
   "language": "python",
   "name": "python3"
  },
  "language_info": {
   "codemirror_mode": {
    "name": "ipython",
    "version": 3
   },
   "file_extension": ".py",
   "mimetype": "text/x-python",
   "name": "python",
   "nbconvert_exporter": "python",
   "pygments_lexer": "ipython3",
   "version": "3.8.2"
  }
 },
 "nbformat": 4,
 "nbformat_minor": 2
}
