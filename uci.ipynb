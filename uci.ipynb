{
 "cells": [
  {
   "cell_type": "code",
   "execution_count": 1,
   "metadata": {},
   "outputs": [],
   "source": [
    "from selenium import webdriver\n",
    "from selenium.webdriver.remote.webdriver import WebDriver\n",
    "from selenium.webdriver.remote.webdriver import WebElement\n",
    "from selenium.webdriver.remote.webdriver import WebDriverException\n",
    "from selenium.webdriver.common.by import By\n",
    "from selenium.webdriver.support.ui import WebDriverWait\n",
    "from selenium.webdriver.support import expected_conditions as expected\n",
    "\n",
    "from time import sleep\n",
    "timeout = 15"
   ]
  },
  {
   "cell_type": "code",
   "execution_count": 2,
   "metadata": {},
   "outputs": [],
   "source": [
    "def getdriver():\n",
    "    driver = webdriver.Chrome()\n",
    "    return driver\n",
    "\n",
    "def getwait(driver, timeout=15):\n",
    "    wait = WebDriverWait(driver, timeout)\n",
    "    return wait\n"
   ]
  },
  {
   "cell_type": "code",
   "execution_count": 3,
   "metadata": {},
   "outputs": [],
   "source": [
    "def present(selector):\n",
    "    return expected.presence_of_element_located(selector)\n",
    "\n",
    "def visible(selector):\n",
    "    return expected.visibility_of_element_located(selector)\n",
    "\n",
    "def clickable(selector):\n",
    "    return expected.element_to_be_clickable(selector)\n",
    "\n",
    "def all_present(selector):\n",
    "    return expected.presence_of_all_elements_located(selector)\n",
    "\n",
    "def all_visible(selector):\n",
    "    return expected.visibility_of_all_elements_located(selector)\n",
    "\n",
    "\n",
    "def when_visible(selector, timeout = timeout):\n",
    "    return getwait(driver).until(visible(selector))\n",
    "\n",
    "def when_clickable(selector, timeout = timeout):\n",
    "    return getwait(driver).until(clickable(selector))\n",
    "\n",
    "def when_all_present(selector, timeout = timeout):\n",
    "    return getwait(driver).until(all_present(selector))\n",
    "\n",
    "def when_all_visible(selector, timeout = timeout):\n",
    "    return getwait(driver).until(all_visible(selector))\n"
   ]
  },
  {
   "cell_type": "code",
   "execution_count": 4,
   "metadata": {},
   "outputs": [],
   "source": [
    "class UCIResultsFrame():\n",
    "    url = \"https://dataride.uci.org/iframe/results/3\"\n",
    "\n",
    "    results_heading_selector = (By.CSS_SELECTOR, \".uci-label\")\n",
    "\n",
    "    racetype_dropdown_selector = (By.CSS_SELECTOR, \"#raceTypes\")\n",
    "    racetype_dropdown_arrow_selector = (By.CSS_SELECTOR, \"[aria-owns=raceTypes_listbox] [class*=arrow]\")\n",
    "    racetype_options_selector = (By.CSS_SELECTOR, \"#raceTypes_listbox li\")\n",
    "\n",
    "    category_dropdown_selector = (By.CSS_SELECTOR, \"#categories\")\n",
    "    category_dropdown_arrow_selector = (By.CSS_SELECTOR, \"[aria-owns=categories_listbox] [class*=arrow]\")\n",
    "    category_options_selector = (By.CSS_SELECTOR, \"#categories_listbox li\")\n",
    "\n",
    "    season_dropdown_selector = (By.CSS_SELECTOR, \"#seasons\")\n",
    "    season_dropdown_arrow_selector = (By.CSS_SELECTOR, \"[aria-owns=seasons_listbox] [class*=arrow]\")\n",
    "    season_options_selector = (By.CSS_SELECTOR, \"#seasons_listbox li\")\n",
    "    \n",
    "    def __init__(self, driver):\n",
    "        self.driver = driver\n",
    "    \n",
    "    def open(self):\n",
    "        self.driver.get(self.url)\n",
    "    "
   ]
  },
  {
   "cell_type": "code",
   "execution_count": 5,
   "metadata": {},
   "outputs": [],
   "source": [
    "def select_racetype(racetype):\n",
    "    print(f\"select race type: {racetype}\")\n",
    "    when_clickable(UCIResultsFrame.racetype_dropdown_arrow_selector).click()\n",
    "    options = when_all_visible(UCIResultsFrame.racetype_options_selector)\n",
    "    for option in options:\n",
    "        print(option.text)\n",
    "        if option.text == racetype:\n",
    "            print(f\"selecting racetype: {racetype}\")\n",
    "            option.click()\n",
    "            #return\n",
    "        \n",
    "def select_category(category):\n",
    "    print(f\"select category: {category}\")\n",
    "    when_clickable(UCIResultsFrame.category_dropdown_arrow_selector).click()\n",
    "    \n",
    "    options = when_all_visible(UCIResultsFrame.category_options_selector)\n",
    "    \n",
    "    for option in options:\n",
    "        print(option.text)\n",
    "        if option.text == category:\n",
    "            print(f\"selecting category: {category}\")\n",
    "            option.click()\n",
    "            #return\n",
    "        \n",
    "def select_season(season):\n",
    "    print(f\"select season: {season}\")\n",
    "    when_clickable(UCIResultsFrame.season_dropdown_arrow_selector).click()\n",
    "    \n",
    "    options = when_all_visible(UCIResultsFrame.season_options_selector)\n",
    "    \n",
    "    print(\"options...\", len(options))\n",
    "#     for option in options:\n",
    "#         print(option.text)\n",
    "#         if option.text == season:\n",
    "#             print(f\"selecting season {season}\")\n",
    "#             option.click()\n",
    "#             #return\n",
    "            \n",
    "    print(f\"select {season} season option\")\n",
    "    target = filter(lambda option: option.text == season, options)\n",
    "    print(f\"filtered option {target} {next(target).text}\")\n",
    "    target.click()\n"
   ]
  },
  {
   "cell_type": "code",
   "execution_count": 8,
   "metadata": {},
   "outputs": [
    {
     "name": "stdout",
     "output_type": "stream",
     "text": [
      "page loaded: Results\n",
      "select race type: Individual\n",
      "All\n",
      "Individual\n",
      "selecting racetype: Individual\n",
      "select category: Men Elite\n",
      "All\n",
      "Men Elite\n",
      "selecting category: Men Elite\n",
      "Women Elite\n",
      "Men Junior\n",
      "Women Junior\n",
      "select season: 2020\n",
      "options... 14\n",
      "select 2020 season option\n",
      "filtered option <filter object at 0x10cd95700> 2020\n"
     ]
    },
    {
     "ename": "AttributeError",
     "evalue": "'filter' object has no attribute 'click'",
     "output_type": "error",
     "traceback": [
      "\u001b[0;31m---------------------------------------------------------------------------\u001b[0m",
      "\u001b[0;31mAttributeError\u001b[0m                            Traceback (most recent call last)",
      "\u001b[0;32m/var/folders/9k/n5vr1xf977dd7rppkkfqt9mr0000gn/T/ipykernel_40708/4153435788.py\u001b[0m in \u001b[0;36m<module>\u001b[0;34m\u001b[0m\n\u001b[1;32m     10\u001b[0m     \u001b[0mselect_racetype\u001b[0m\u001b[0;34m(\u001b[0m\u001b[0;34m\"Individual\"\u001b[0m\u001b[0;34m)\u001b[0m\u001b[0;34m\u001b[0m\u001b[0;34m\u001b[0m\u001b[0m\n\u001b[1;32m     11\u001b[0m     \u001b[0mselect_category\u001b[0m\u001b[0;34m(\u001b[0m\u001b[0;34m\"Men Elite\"\u001b[0m\u001b[0;34m)\u001b[0m\u001b[0;34m\u001b[0m\u001b[0;34m\u001b[0m\u001b[0m\n\u001b[0;32m---> 12\u001b[0;31m     \u001b[0mselect_season\u001b[0m\u001b[0;34m(\u001b[0m\u001b[0;34m\"2020\"\u001b[0m\u001b[0;34m)\u001b[0m\u001b[0;34m\u001b[0m\u001b[0;34m\u001b[0m\u001b[0m\n\u001b[0m\u001b[1;32m     13\u001b[0m \u001b[0;34m\u001b[0m\u001b[0m\n\u001b[1;32m     14\u001b[0m \u001b[0;32mfinally\u001b[0m\u001b[0;34m:\u001b[0m\u001b[0;34m\u001b[0m\u001b[0;34m\u001b[0m\u001b[0m\n",
      "\u001b[0;32m/var/folders/9k/n5vr1xf977dd7rppkkfqt9mr0000gn/T/ipykernel_40708/3117318855.py\u001b[0m in \u001b[0;36mselect_season\u001b[0;34m(season)\u001b[0m\n\u001b[1;32m     40\u001b[0m     \u001b[0mtarget\u001b[0m \u001b[0;34m=\u001b[0m \u001b[0mfilter\u001b[0m\u001b[0;34m(\u001b[0m\u001b[0;32mlambda\u001b[0m \u001b[0moption\u001b[0m\u001b[0;34m:\u001b[0m \u001b[0moption\u001b[0m\u001b[0;34m.\u001b[0m\u001b[0mtext\u001b[0m \u001b[0;34m==\u001b[0m \u001b[0mseason\u001b[0m\u001b[0;34m,\u001b[0m \u001b[0moptions\u001b[0m\u001b[0;34m)\u001b[0m\u001b[0;34m\u001b[0m\u001b[0;34m\u001b[0m\u001b[0m\n\u001b[1;32m     41\u001b[0m     \u001b[0mprint\u001b[0m\u001b[0;34m(\u001b[0m\u001b[0;34mf\"filtered option {target} {next(target).text}\"\u001b[0m\u001b[0;34m)\u001b[0m\u001b[0;34m\u001b[0m\u001b[0;34m\u001b[0m\u001b[0m\n\u001b[0;32m---> 42\u001b[0;31m     \u001b[0mtarget\u001b[0m\u001b[0;34m.\u001b[0m\u001b[0mclick\u001b[0m\u001b[0;34m(\u001b[0m\u001b[0;34m)\u001b[0m\u001b[0;34m\u001b[0m\u001b[0;34m\u001b[0m\u001b[0m\n\u001b[0m",
      "\u001b[0;31mAttributeError\u001b[0m: 'filter' object has no attribute 'click'"
     ]
    }
   ],
   "source": [
    "try:\n",
    "    driver = getdriver()\n",
    "    wait = getwait(driver)\n",
    "\n",
    "    driver.get(\"https://dataride.uci.org/iframe/results/3\")\n",
    "    sleep(5)\n",
    "    heading = driver.find_element(By.CSS_SELECTOR, '.uci-label')\n",
    "    print(\"page loaded: \" + heading.text)\n",
    "\n",
    "    select_racetype(\"Individual\")\n",
    "    select_category(\"Men Elite\")\n",
    "    select_season(\"2020\")\n",
    "    \n",
    "finally:\n",
    "    sleep(10)\n",
    "    driver.quit()"
   ]
  },
  {
   "cell_type": "code",
   "execution_count": 7,
   "metadata": {},
   "outputs": [
    {
     "name": "stdout",
     "output_type": "stream",
     "text": [
      "done\n"
     ]
    }
   ],
   "source": [
    "print(\"done\")"
   ]
  },
  {
   "cell_type": "code",
   "execution_count": null,
   "metadata": {},
   "outputs": [],
   "source": []
  }
 ],
 "metadata": {
  "kernelspec": {
   "display_name": "Python 3 (ipykernel)",
   "language": "python",
   "name": "python3"
  },
  "language_info": {
   "codemirror_mode": {
    "name": "ipython",
    "version": 3
   },
   "file_extension": ".py",
   "mimetype": "text/x-python",
   "name": "python",
   "nbconvert_exporter": "python",
   "pygments_lexer": "ipython3",
   "version": "3.8.2"
  }
 },
 "nbformat": 4,
 "nbformat_minor": 2
}
