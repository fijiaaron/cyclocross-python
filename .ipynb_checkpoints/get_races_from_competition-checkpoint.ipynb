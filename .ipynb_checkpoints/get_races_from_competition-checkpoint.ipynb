{
 "cells": [
  {
   "cell_type": "code",
   "execution_count": 9,
   "id": "3384ff2c",
   "metadata": {},
   "outputs": [
    {
     "data": {
      "text/html": [
       "<style>.container { width:100% !important; }</style>"
      ],
      "text/plain": [
       "<IPython.core.display.HTML object>"
      ]
     },
     "metadata": {},
     "output_type": "display_data"
    }
   ],
   "source": [
    "from IPython.core.display import display, HTML\n",
    "display(HTML(\"<style>.container { width:100% !important; }</style>\"))"
   ]
  },
  {
   "cell_type": "code",
   "execution_count": 10,
   "id": "e651e7cf",
   "metadata": {},
   "outputs": [],
   "source": [
    "from time import sleep\n",
    "\n",
    "from selenium import webdriver\n",
    "from selenium.webdriver.remote.webdriver import WebDriver\n",
    "from selenium.webdriver.remote.webdriver import WebElement\n",
    "from selenium.webdriver.remote.webdriver import WebDriverException\n",
    "from selenium.webdriver.common.by import By\n",
    "from selenium.webdriver.support.ui import WebDriverWait\n",
    "from selenium.webdriver.support import expected_conditions\n",
    "\n",
    "from utils import setup\n",
    "from uci.cyclocross.CompetitionResultsFrame import CompetitionResultsFrame"
   ]
  },
  {
   "cell_type": "code",
   "execution_count": null,
   "id": "44edaf7e",
   "metadata": {},
   "outputs": [],
   "source": [
    "class CompetitionResultsFrame():\n",
    "    \n",
    "    timeout = 30\n",
    "    \n",
    "    def __init__(self, driver, competition)\n",
    "        self.driver = driver\n",
    "        self.wait = WebDriverWait(driver, timeout)\n",
    "        self."
   ]
  },
  {
   "cell_type": "code",
   "execution_count": 11,
   "id": "5befef99",
   "metadata": {},
   "outputs": [
    {
     "name": "stdout",
     "output_type": "stream",
     "text": [
      " 20210916.080148.902 | utils.setup | setup.py:69 | DEBUG    | get_chromedriver...\n",
      " 20210916.080148.903 | utils.setup | setup.py:40 | DEBUG    | get_chrome_options...\n",
      " 20210916.080148.904 | utils.setup | setup.py:43 | DEBUG    | RUN_HEADLESS False\n",
      " 20210916.080148.905 | utils.setup | setup.py:50 | DEBUG    | headless is not set\n",
      " 20210916.080148.905 | utils.setup | setup.py:74 | DEBUG    | chrome_options: <selenium.webdriver.chrome.options.Options object at 0x110754bb0>\n",
      " 20210916.080150.826 | utils.setup | setup.py:77 | DEBUG    | driver: <selenium.webdriver.chrome.webdriver.WebDriver (session=\"dab15d2cf54625e90d1031fd22df7c0a\")>\n"
     ]
    }
   ],
   "source": [
    "driver = setup.get_chromedriver()\n",
    "driver.get(competition_url)"
   ]
  },
  {
   "cell_type": "code",
   "execution_count": 14,
   "id": "09bc0b4f",
   "metadata": {},
   "outputs": [
    {
     "name": "stdout",
     "output_type": "stream",
     "text": [
      "None\n"
     ]
    }
   ],
   "source": [
    "print(driver)"
   ]
  },
  {
   "cell_type": "code",
   "execution_count": null,
   "id": "69ecdeae",
   "metadata": {},
   "outputs": [],
   "source": []
  },
  {
   "cell_type": "code",
   "execution_count": null,
   "id": "8103f483",
   "metadata": {},
   "outputs": [],
   "source": []
  }
 ],
 "metadata": {
  "kernelspec": {
   "display_name": "Python 3 (ipykernel)",
   "language": "python",
   "name": "python3"
  },
  "language_info": {
   "codemirror_mode": {
    "name": "ipython",
    "version": 3
   },
   "file_extension": ".py",
   "mimetype": "text/x-python",
   "name": "python",
   "nbconvert_exporter": "python",
   "pygments_lexer": "ipython3",
   "version": "3.8.2"
  }
 },
 "nbformat": 4,
 "nbformat_minor": 5
}
