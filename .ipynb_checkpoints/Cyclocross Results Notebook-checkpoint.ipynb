{
 "cells": [
  {
   "cell_type": "markdown",
   "id": "85e4e0b9",
   "metadata": {},
   "source": [
    "# Get Cyclocross Results from UCI.org\n"
   ]
  },
  {
   "cell_type": "markdown",
   "id": "40a4ab6c",
   "metadata": {},
   "source": [
    "### Add Dependendcies"
   ]
  },
  {
   "cell_type": "code",
   "execution_count": 2,
   "id": "f4baa89e",
   "metadata": {},
   "outputs": [],
   "source": [
    "import os\n",
    "import sys\n",
    "import csv\n",
    "import json"
   ]
  },
  {
   "cell_type": "code",
   "execution_count": 1,
   "id": "6328d8c4",
   "metadata": {},
   "outputs": [],
   "source": [
    "from selenium import webdriver\n",
    "from selenium.webdriver.remote.webdriver import WebDriver\n",
    "from selenium.webdriver.remote.webdriver import WebElement\n",
    "from selenium.webdriver.remote.webdriver import WebDriverException\n",
    "from selenium.webdriver.common.by import By\n",
    "from selenium.webdriver.support.ui import WebDriverWait\n",
    "from selenium.webdriver.support import expected_conditions"
   ]
  },
  {
   "cell_type": "code",
   "execution_count": 3,
   "id": "94126c19",
   "metadata": {},
   "outputs": [],
   "source": [
    "expected = expected_conditions\n",
    "\n",
    "present = expected.presence_of_element_located\n",
    "visible = expected.visibility_of_element_located\n",
    "clickable = expected.element_to_be_clickable\n",
    "selected = expected.element_to_be_selected\n",
    "all_present = expected.presence_of_all_elements_located\n",
    "all_visible = expected.visibility_of_all_elements_located"
   ]
  },
  {
   "cell_type": "markdown",
   "id": "aa6268e5",
   "metadata": {},
   "source": [
    "### Launch WebDriver"
   ]
  },
  {
   "cell_type": "code",
   "execution_count": null,
   "id": "d941dd43",
   "metadata": {},
   "outputs": [],
   "source": [
    "timeout = 15\n",
    "driver = webdriver.Chrome()\n",
    "wait = WebDriverWait(driver, timeout)"
   ]
  },
  {
   "cell_type": "markdown",
   "id": "a9c552f0",
   "metadata": {},
   "source": [
    "### "
   ]
  }
 ],
 "metadata": {
  "kernelspec": {
   "display_name": "Python 3 (ipykernel)",
   "language": "python",
   "name": "python3"
  },
  "language_info": {
   "codemirror_mode": {
    "name": "ipython",
    "version": 3
   },
   "file_extension": ".py",
   "mimetype": "text/x-python",
   "name": "python",
   "nbconvert_exporter": "python",
   "pygments_lexer": "ipython3",
   "version": "3.8.2"
  }
 },
 "nbformat": 4,
 "nbformat_minor": 5
}
